{
 "cells": [
  {
   "cell_type": "code",
   "execution_count": 1,
   "metadata": {
    "collapsed": false
   },
   "outputs": [],
   "source": [
    "'''\n",
    "王者荣耀官网英雄皮肤采集\n",
    "抓取网页为:[王者荣耀英雄](http://pvp.qq.com/web201605/herolist.shtml)\n",
    "观察原网页,刷新, 取到herolist.json, 另存到当前目录\n",
    "'''\n",
    "#导入相关包\n",
    "import requests\n",
    "import json\n",
    "import os\n",
    "\n",
    "#打开下载的json文件\n",
    "with open('herolist.json','r',encoding='utf-8') as myFile:#read \n",
    "    jsonFile = json.load(myFile)\n",
    "\n",
    "#在当前目录下新建文件夹-HeroSkins ,并将其设置为工作目录\n",
    "path = os.getcwd()\n",
    "os.mkdir('HeroSkins')#在当前目录下生成新文件夹 heroskins\n",
    "os.chdir(path + '\\\\HeroSkins') #进入生成的文件夹内\n",
    "path = os.getcwd()  \n",
    "\n",
    "for m in range(len(jsonFile)):\n",
    "    ename = jsonFile[m]['ename'] #取出英雄的英文名称\n",
    "    cname = jsonFile[m]['cname'] #取出英雄的中文名称\n",
    "    hero_type = jsonFile[m]['hero_type'] #取出英雄类型\n",
    "    skin_name = jsonFile[m]['skin_name'].split('|') #取出英雄皮肤名称,并得到用\"\\\"分隔的单个皮肤名称\n",
    "    skin_number = len(skin_name) #皮肤数量\n",
    "    os.mkdir(cname)#在当前目录下生成新文件夹,文件夹名字是英雄名字\n",
    "    os.chdir(path + '\\\\'+cname) #改变工作目录为当前英雄目录\n",
    "    for bigskin in range(1,skin_number+1):\n",
    "        #使用正则表示皮肤网址\n",
    "        skin_url = 'http://game.gtimg.cn/images/yxzj/img201606/skin/hero-info/'+str(ename)+'/'+str(ename)+'-bigskin-'+ str(bigskin) +'.jpg'\n",
    "        #获取图片二进制信息\n",
    "        skins = requests.get(skin_url).content\n",
    "        #写入文件\n",
    "        with open(cname + '-'+skin_name[bigskin-1]+'.jpg','wb') as mySkin:\n",
    "            mySkin.write(skins)\n",
    "    os.chdir(path) #返回至上级目录"
   ]
  }
 ],
 "metadata": {
  "kernelspec": {
   "display_name": "Python 3",
   "language": "python",
   "name": "python3"
  },
  "language_info": {
   "codemirror_mode": {
    "name": "ipython",
    "version": 3
   },
   "file_extension": ".py",
   "mimetype": "text/x-python",
   "name": "python",
   "nbconvert_exporter": "python",
   "pygments_lexer": "ipython3",
   "version": "3.6.0"
  }
 },
 "nbformat": 4,
 "nbformat_minor": 2
}
